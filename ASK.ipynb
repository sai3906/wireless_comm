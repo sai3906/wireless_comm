{
 "cells": [
  {
   "cell_type": "code",
   "execution_count": 40,
   "metadata": {},
   "outputs": [],
   "source": [
    "import numpy as np\n",
    "from matplotlib import pyplot as plt"
   ]
  },
  {
   "cell_type": "code",
   "execution_count": 41,
   "metadata": {},
   "outputs": [
    {
     "name": "stdout",
     "output_type": "stream",
     "text": [
      "8\n"
     ]
    }
   ],
   "source": [
    "#M=no of symbols\n",
    "no_of_bits=3\n",
    "M=2**no_of_bits\n",
    "print(M)"
   ]
  },
  {
   "cell_type": "code",
   "execution_count": 42,
   "metadata": {},
   "outputs": [
    {
     "name": "stdout",
     "output_type": "stream",
     "text": [
      "[-7 -5 -3 -1  1  3  5  7]\n"
     ]
    }
   ],
   "source": [
    "def modulate_ask(M):\n",
    "    #source=np.array()\n",
    "    symbols=np.array([(i-(M-1-i)) for i in range(0,M)])\n",
    "    return symbols\n",
    "\n",
    "mod_output=modulate_ask(M)\n",
    "print(mod_output)"
   ]
  },
  {
   "cell_type": "code",
   "execution_count": 46,
   "metadata": {},
   "outputs": [
    {
     "name": "stdout",
     "output_type": "stream",
     "text": [
      "[ 0.73579628  0.37391613  0.32820386  1.94080661  0.59004636 -0.56964816\n",
      " -1.61664944 -0.17030843]\n"
     ]
    }
   ],
   "source": [
    "\n",
    "#channel\n",
    "def noise(no_of_samples):\n",
    "    noise=np.random.randn(no_of_samples)\n",
    "    return noise\n",
    "noise1=noise(M)\n",
    "print(noise(M))\n"
   ]
  },
  {
   "cell_type": "code",
   "execution_count": 49,
   "metadata": {},
   "outputs": [
    {
     "name": "stdout",
     "output_type": "stream",
     "text": [
      "[-7.69944272 -4.63090057 -2.88237364 -1.08070811  0.89023737  2.40182591\n",
      "  5.7085748   5.71590241]\n"
     ]
    }
   ],
   "source": [
    "#AWGN\n",
    "channel_output=mod_output+noise1\n",
    "print(channel_output)"
   ]
  },
  {
   "cell_type": "code",
   "execution_count": null,
   "metadata": {},
   "outputs": [],
   "source": [
    "    \n",
    "#Desion Device\n",
    "def DD(DD_in,nob):\n",
    "    y_out=np.array([],dtype=np.int32)\n",
    "    for i in range(0,nob):\n",
    "        if(DD_in[i]<0):\n",
    "            y_out=np.append(y_out,0)\n",
    "        else:\n",
    "            y_out=np.append(y_out,1)\n",
    "    return y_out\n"
   ]
  },
  {
   "cell_type": "code",
   "execution_count": null,
   "metadata": {},
   "outputs": [],
   "source": [
    "\n",
    "\n",
    "#checking for unmatched bits in stream\n",
    "def BER(tr,rec):\n",
    "    xor=tr^rec\n",
    "    return np.count_nonzero(xor)"
   ]
  },
  {
   "cell_type": "code",
   "execution_count": null,
   "metadata": {},
   "outputs": [
    {
     "ename": "NameError",
     "evalue": "name 'channel_output' is not defined",
     "output_type": "error",
     "traceback": [
      "\u001b[0;31m---------------------------------------------------------------------------\u001b[0m",
      "\u001b[0;31mNameError\u001b[0m                                 Traceback (most recent call last)",
      "Cell \u001b[0;32mIn[5], line 4\u001b[0m\n\u001b[1;32m      1\u001b[0m \u001b[38;5;28;01mdef\u001b[39;00m \u001b[38;5;21mDD\u001b[39m(DD_in, nob):\n\u001b[1;32m      2\u001b[0m     \u001b[38;5;28;01mreturn\u001b[39;00m np\u001b[38;5;241m.\u001b[39mwhere(DD_in[:nob] \u001b[38;5;241m<\u001b[39m \u001b[38;5;241m0\u001b[39m, \u001b[38;5;241m0\u001b[39m, \u001b[38;5;241m1\u001b[39m)\u001b[38;5;241m.\u001b[39mastype(np\u001b[38;5;241m.\u001b[39mint32)\n\u001b[0;32m----> 4\u001b[0m \u001b[38;5;28mprint\u001b[39m(DD(\u001b[43mchannel_output\u001b[49m,no_of_bits))\n",
      "\u001b[0;31mNameError\u001b[0m: name 'channel_output' is not defined"
     ]
    }
   ],
   "source": [
    "def DD(DD_in, nob):\n",
    "    return np.where(DD_in[:nob] < 0, 0, 1).astype(np.int32)\n",
    "\n",
    "print(DD(channel_output,no_of_bits))"
   ]
  },
  {
   "cell_type": "code",
   "execution_count": null,
   "metadata": {},
   "outputs": [],
   "source": []
  }
 ],
 "metadata": {
  "kernelspec": {
   "display_name": "Python 3",
   "language": "python",
   "name": "python3"
  },
  "language_info": {
   "codemirror_mode": {
    "name": "ipython",
    "version": 3
   },
   "file_extension": ".py",
   "mimetype": "text/x-python",
   "name": "python",
   "nbconvert_exporter": "python",
   "pygments_lexer": "ipython3",
   "version": "3.10.12"
  }
 },
 "nbformat": 4,
 "nbformat_minor": 2
}
