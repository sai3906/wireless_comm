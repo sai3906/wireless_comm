{
 "cells": [
  {
   "cell_type": "code",
   "execution_count": 342,
   "metadata": {},
   "outputs": [],
   "source": [
    "import numpy as np\n",
    "from matplotlib import pyplot as plt"
   ]
  },
  {
   "cell_type": "code",
   "execution_count": 359,
   "metadata": {},
   "outputs": [
    {
     "name": "stdout",
     "output_type": "stream",
     "text": [
      "[1 1 0 0]\n"
     ]
    }
   ],
   "source": [
    "#generating M number of bits\n",
    "M=4\n",
    "\n",
    "def Tx(M):\n",
    "    bits=np.array([0,1])\n",
    "    bits2=np.concatenate([bits] * M)\n",
    "    x4=np.random.choice(bits2,size=M,replace=False)\n",
    "    return x4\n",
    "print(Tx(M))"
   ]
  },
  {
   "cell_type": "code",
   "execution_count": 344,
   "metadata": {},
   "outputs": [
    {
     "name": "stdout",
     "output_type": "stream",
     "text": [
      "[0.31925475]\n"
     ]
    }
   ],
   "source": [
    "#channel\n",
    "def noise():\n",
    "    noise=np.random.randn(int(np.log2(M)))\n",
    "    return noise\n",
    "print(noise())"
   ]
  },
  {
   "cell_type": "code",
   "execution_count": 345,
   "metadata": {},
   "outputs": [],
   "source": [
    "#Desion Device\n",
    "def DD(recieved_signal):\n",
    "    if(recieved_signal<0.5):\n",
    "        y_out=0\n",
    "    else:\n",
    "        y_out=1\n",
    "    return y_out\n"
   ]
  },
  {
   "cell_type": "code",
   "execution_count": 346,
   "metadata": {},
   "outputs": [],
   "source": [
    "#checking for bit error rate\n",
    "\n",
    "def BER(tr,rec):\n",
    "    count=0\n",
    "    if(tr!=rec):\n",
    "       #count=count+1\n",
    "        print(\"error\")\n",
    "    else:\n",
    "        print(\"no error\")\n"
   ]
  },
  {
   "cell_type": "code",
   "execution_count": 352,
   "metadata": {},
   "outputs": [
    {
     "name": "stdout",
     "output_type": "stream",
     "text": [
      "[0.55192993]\n",
      "error\n"
     ]
    }
   ],
   "source": [
    "x=Tx(M)\n",
    "n=noise()\n",
    "\n",
    "#addition of noise to TX-signal\n",
    "awgn=x+n\n",
    "print(awgn)\n",
    "\n",
    "#giving awgn signal to Decision Device after recieving\n",
    "y=DD(awgn)\n",
    "#print(y)\n",
    "\n",
    "#calculating BER by giving Transmitted and recieved signals\n",
    "BER(x,y)"
   ]
  },
  {
   "cell_type": "code",
   "execution_count": null,
   "metadata": {},
   "outputs": [],
   "source": []
  }
 ],
 "metadata": {
  "kernelspec": {
   "display_name": "Python 3",
   "language": "python",
   "name": "python3"
  },
  "language_info": {
   "codemirror_mode": {
    "name": "ipython",
    "version": 3
   },
   "file_extension": ".py",
   "mimetype": "text/x-python",
   "name": "python",
   "nbconvert_exporter": "python",
   "pygments_lexer": "ipython3",
   "version": "3.9.6"
  }
 },
 "nbformat": 4,
 "nbformat_minor": 2
}
