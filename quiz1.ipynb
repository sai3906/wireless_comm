{
 "cells": [
  {
   "cell_type": "code",
   "execution_count": 807,
   "metadata": {},
   "outputs": [],
   "source": [
    "import numpy as np\n",
    "from matplotlib import pyplot as plt"
   ]
  },
  {
   "cell_type": "code",
   "execution_count": 808,
   "metadata": {},
   "outputs": [],
   "source": [
    "#generating M number of bits\n",
    "def bit_generator(no_of_bits):\n",
    "    return np.random.randint(0,2,no_of_bits)"
   ]
  },
  {
   "cell_type": "code",
   "execution_count": 809,
   "metadata": {},
   "outputs": [],
   "source": [
    "#modulation\n",
    "def modulate(bit_gen_out):\n",
    "    return 2*bit_gen_out-1"
   ]
  },
  {
   "cell_type": "code",
   "execution_count": 810,
   "metadata": {},
   "outputs": [],
   "source": [
    "#channel\n",
    "def noise(a):\n",
    "    noise=np.random.randn(a)\n",
    "    return noise"
   ]
  },
  {
   "cell_type": "code",
   "execution_count": 811,
   "metadata": {},
   "outputs": [],
   "source": [
    "#Desion Device\n",
    "def DD(DD_in,nob):\n",
    "    y_out=np.array([],dtype=np.int32)\n",
    "    for i in range(0,nob):\n",
    "        if(DD_in[i]<0):\n",
    "            y_out=np.append(y_out,0)\n",
    "        else:\n",
    "            y_out=np.append(y_out,1)\n",
    "    return y_out\n"
   ]
  },
  {
   "cell_type": "code",
   "execution_count": 812,
   "metadata": {},
   "outputs": [],
   "source": [
    "#checking for bit error rate\n",
    "def BER(tr,rec):\n",
    "    xor=tr^rec\n",
    "    return np.count_nonzero(xor)"
   ]
  },
  {
   "cell_type": "code",
   "execution_count": 818,
   "metadata": {},
   "outputs": [
    {
     "name": "stdout",
     "output_type": "stream",
     "text": [
      "157\n"
     ]
    }
   ],
   "source": [
    "#generating bit stream\n",
    "no_of_bits=1000\n",
    "bit_gen_out=bit_generator(no_of_bits)\n",
    "\n",
    "#modulation\n",
    "mod_out=modulate(bit_gen_out)\n",
    "\n",
    "#ading noise to input bit stream\n",
    "channel_output=mod_out+noise(no_of_bits)\n",
    "\n",
    "#giving channel output to Desicion Device\n",
    "DD_out=DD(channel_output,no_of_bits)\n",
    "#print(DD_out)\n",
    "\n",
    "#calculating bit error rate\n",
    "bit_error_rate=BER(bit_gen_out,DD_out)\n",
    "print(bit_error_rate)"
   ]
  }
 ],
 "metadata": {
  "kernelspec": {
   "display_name": "Python 3",
   "language": "python",
   "name": "python3"
  },
  "language_info": {
   "codemirror_mode": {
    "name": "ipython",
    "version": 3
   },
   "file_extension": ".py",
   "mimetype": "text/x-python",
   "name": "python",
   "nbconvert_exporter": "python",
   "pygments_lexer": "ipython3",
   "version": "3.10.12"
  }
 },
 "nbformat": 4,
 "nbformat_minor": 2
}
